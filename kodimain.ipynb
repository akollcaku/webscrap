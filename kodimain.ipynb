{
 "cells": [
  {
   "cell_type": "code",
   "execution_count": null,
   "id": "4f3bd30f-083c-4a23-9057-b968ca9a948c",
   "metadata": {},
   "outputs": [],
   "source": [
    "#IMPORTIMET"
   ]
  },
  {
   "cell_type": "code",
   "execution_count": 1,
   "id": "5830fbcc-f5ff-4d4a-9ba3-26b9f64d069e",
   "metadata": {},
   "outputs": [],
   "source": [
    "import requests\n",
    "from bs4 import BeautifulSoup\n",
    "import json\n",
    "import csv\n",
    "from cryptography.hazmat.primitives.ciphers import Cipher, algorithms, modes\n",
    "from cryptography.hazmat.backends import default_backend\n",
    "import os\n",
    "from cryptography.hazmat.primitives.asymmetric import rsa\n",
    "from cryptography.hazmat.primitives.asymmetric import padding\n",
    "from cryptography.hazmat.primitives import hashes"
   ]
  },
  {
   "cell_type": "code",
   "execution_count": null,
   "id": "d3f061a4-32e0-43f0-b09f-f4a3fc617c7d",
   "metadata": {},
   "outputs": [],
   "source": [
    "#WEB SCRAPING KODI"
   ]
  },
  {
   "cell_type": "code",
   "execution_count": 7,
   "id": "7d2c6d45-7d09-432e-9253-847e746bdf89",
   "metadata": {},
   "outputs": [],
   "source": [
    "url = \"https://asp.gov.al/\"  # Website\n",
    "response = requests.get(url)\n",
    "soup = BeautifulSoup(response.text, 'html.parser') #perdorim beautiful soup\n",
    "\n",
    "data = []\n",
    "\n",
    "# Ekstraktimi i vendodhjes marre nga titujt\n",
    "def extract_location_from_title(title):\n",
    "    cities = [\"Tiranë\", \"Durrës\", \"Fier\", \"Korçë\", \"Elbasan\", \"Gjirokastër\", \"Has\", \"Shkodër\", \"Berat\"]\n",
    "    normalized_title = title.lower()\n",
    "    for city in cities:\n",
    "        if city.lower() in normalized_title:\n",
    "            return city\n",
    "    return \"Vendodhja nuk u gjet\"\n",
    "\n",
    "# OpenWeather API\n",
    "api_url = \"https://api.openweathermap.org/data/2.5/weather\"\n",
    "api_key = \"c1c6ef3ed03009165d3cbd1f76b7cb4a\"  # Kodi API per weatherin\n",
    "\n",
    "# Ben ekstrakt titujve vendodhjen dhe motin\n",
    "for article in soup.find_all('h2'):  \n",
    "    title = article.get_text(strip=True)\n",
    "    location = extract_location_from_title(title)\n",
    "    \n",
    "    weather_info = \"Vendodhja nuk ekziston\"\n",
    "    if location != \"Vendodhja nuk u gjet\":\n",
    "        params = {\n",
    "            \"q\": location,\n",
    "            \"appid\": api_key,\n",
    "            \"units\": \"metric\"  # Marrim temp n C\n",
    "        }\n",
    "        weather_response = requests.get(api_url, params=params).json()\n",
    "        if \"main\" in weather_response:\n",
    "            weather_info = {\n",
    "                \"temperature\": weather_response[\"main\"][\"temp\"],\n",
    "                \"description\": weather_response[\"weather\"][0][\"description\"]\n",
    "            }\n",
    "        else:\n",
    "            weather_info = \"Nuk u gjeten te dhena per motin\"\n",
    "    \n",
    "    data.append({\"title\": title, \"location\": location, \"weather\": weather_info})"
   ]
  },
  {
   "cell_type": "code",
   "execution_count": 8,
   "id": "d0667a7a-7f5b-4fbc-9119-34cff1f846ed",
   "metadata": {},
   "outputs": [],
   "source": [
    "#Ruajta ne JSON"
   ]
  },
  {
   "cell_type": "code",
   "execution_count": 9,
   "id": "00ce7d48-82e2-4da0-83ef-c9d05aabeacd",
   "metadata": {},
   "outputs": [],
   "source": [
    "json_filename = \"ASP_tedhena.json\"\n",
    "with open(json_filename, 'w', encoding='utf-8') as json_file:\n",
    "    json.dump(data, json_file, ensure_ascii=False, indent=4)"
   ]
  },
  {
   "cell_type": "code",
   "execution_count": 10,
   "id": "4cf66a87-43cd-41ba-bae9-ae96d62bd1d5",
   "metadata": {},
   "outputs": [],
   "source": [
    "#Ruajtja ne CSV EXCEL"
   ]
  },
  {
   "cell_type": "code",
   "execution_count": 11,
   "id": "ede666b6-1592-4e28-bdd3-465ede5af1cf",
   "metadata": {},
   "outputs": [],
   "source": [
    "csv_filename = \"ASP_tedhena.csv\"\n",
    "with open(csv_filename, mode='w', newline='', encoding='utf-8') as csv_file:\n",
    "    writer = csv.DictWriter(csv_file, fieldnames=[\"title\", \"location\", \"weather\"])\n",
    "    writer.writeheader()\n",
    "    writer.writerows(data)"
   ]
  },
  {
   "cell_type": "code",
   "execution_count": 12,
   "id": "0319a43d-fb94-46f9-87d2-809cacaea8ab",
   "metadata": {},
   "outputs": [],
   "source": [
    "#ENKRIPTIMI AES"
   ]
  },
  {
   "cell_type": "code",
   "execution_count": 13,
   "id": "381d6e87-5d70-4be7-a1a1-30809496c2f9",
   "metadata": {},
   "outputs": [],
   "source": [
    "key = os.urandom(32)  # Gjeneron nje celes random 256 bit\n",
    "iv = os.urandom(16)   # Generon IV\n",
    "\n",
    "cipher = Cipher(algorithms.AES(key), modes.CFB(iv), backend=default_backend())\n",
    "encryptor = cipher.encryptor()\n",
    "\n",
    "with open(json_filename, 'rb') as f:\n",
    "    plaintext = f.read()\n",
    "\n",
    "ciphertext = encryptor.update(plaintext) + encryptor.finalize()\n",
    "\n",
    "encrypted_filename = \"enkriptimi_tedhenave.aes\"\n",
    "with open(encrypted_filename, 'wb') as f:\n",
    "    f.write(iv + ciphertext)  # Pergatit IV for dekriptim"
   ]
  },
  {
   "cell_type": "code",
   "execution_count": 14,
   "id": "7490ab8a-dee6-41e5-80d0-f9ec42ce95e3",
   "metadata": {},
   "outputs": [],
   "source": [
    "#ENKRIPTIM RSA "
   ]
  },
  {
   "cell_type": "code",
   "execution_count": 15,
   "id": "77767eb4-89e1-47fd-83c9-b251bd7f28c2",
   "metadata": {},
   "outputs": [
    {
     "name": "stdout",
     "output_type": "stream",
     "text": [
      "Te dhenat u moren, u enkriptuan dhe u ruajten ASP_tedhena.json, ASP_tedhena.csv, and enkriptimi_tedhenave.aes.\n"
     ]
    }
   ],
   "source": [
    "private_key = rsa.generate_private_key(\n",
    "    public_exponent=65537,\n",
    "    key_size=2048,\n",
    "    backend=default_backend()\n",
    ")\n",
    "public_key = private_key.public_key()\n",
    "\n",
    "encrypted_key = public_key.encrypt(\n",
    "    key,\n",
    "    padding.OAEP(\n",
    "        mgf=padding.MGF1(algorithm=hashes.SHA256()),\n",
    "        algorithm=hashes.SHA256(),\n",
    "        label=None\n",
    "    )\n",
    ")\n",
    "\n",
    "key_filename = \"celesi_enkriptimit.pem\"\n",
    "with open(key_filename, 'wb') as f:\n",
    "    f.write(encrypted_key)\n",
    "\n",
    "print(f\"Te dhenat u moren, u enkriptuan dhe u ruajten {json_filename}, {csv_filename}, and {encrypted_filename}.\")"
   ]
  },
  {
   "cell_type": "code",
   "execution_count": null,
   "id": "18c3921e-6321-44c9-b312-1c6ebbeb053b",
   "metadata": {},
   "outputs": [],
   "source": []
  },
  {
   "cell_type": "code",
   "execution_count": null,
   "id": "dd081eaa-5650-433c-834c-df7ae52985c4",
   "metadata": {},
   "outputs": [],
   "source": []
  }
 ],
 "metadata": {
  "kernelspec": {
   "display_name": "Python 3 (ipykernel)",
   "language": "python",
   "name": "python3"
  },
  "language_info": {
   "codemirror_mode": {
    "name": "ipython",
    "version": 3
   },
   "file_extension": ".py",
   "mimetype": "text/x-python",
   "name": "python",
   "nbconvert_exporter": "python",
   "pygments_lexer": "ipython3",
   "version": "3.11.9"
  }
 },
 "nbformat": 4,
 "nbformat_minor": 5
}
